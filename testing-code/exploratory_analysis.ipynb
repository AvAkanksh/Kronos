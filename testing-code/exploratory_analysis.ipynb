{
 "cells": [
  {
   "cell_type": "markdown",
   "id": "e8522d8c",
   "metadata": {},
   "source": [
    "# Exploratory Analysis of Kronos Model\n",
    "\n",
    "This notebook is for experimenting with the Kronos model. We will:\n",
    "1. Load the pre-trained Kronos model and tokenizer.\n",
    "2. Fetch financial data using `yfinance`.\n",
    "3. Use the model to make predictions on the fetched data.\n",
    "4. Visualize the results."
   ]
  },
  {
   "cell_type": "code",
   "execution_count": null,
   "id": "a627d667",
   "metadata": {},
   "outputs": [],
   "source": [
    "!pip install yfinance"
   ]
  },
  {
   "cell_type": "code",
   "execution_count": null,
   "id": "ed2a701c",
   "metadata": {},
   "outputs": [],
   "source": [
    "import pandas as pd\n",
    "import matplotlib.pyplot as plt\n",
    "import sys\n",
    "import yfinance as yf\n",
    "\n",
    "# To import from parent directory\n",
    "sys.path.append(\"../\")\n",
    "\n",
    "from model import Kronos, KronosTokenizer, KronosPredictor"
   ]
  },
  {
   "cell_type": "markdown",
   "id": "c8669e11",
   "metadata": {},
   "source": [
    "### 1. Load Model and Tokenizer"
   ]
  }
 ],
 "metadata": {
  "language_info": {
   "name": "python"
  }
 },
 "nbformat": 4,
 "nbformat_minor": 5
}
