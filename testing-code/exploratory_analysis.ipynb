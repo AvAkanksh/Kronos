{
 "cells": [
  {
   "cell_type": "markdown",
   "id": "e8522d8c",
   "metadata": {},
   "source": [
    "# Exploratory Analysis of Kronos Model\n",
    "\n",
    "This notebook is for experimenting with the Kronos model. We will:\n",
    "1. Load the pre-trained Kronos model and tokenizer.\n",
    "2. Fetch financial data using `yfinance`.\n",
    "3. Use the model to make predictions on the fetched data.\n",
    "4. Visualize the results."
   ]
  },
  {
   "cell_type": "code",
   "execution_count": null,
   "id": "a627d667",
   "metadata": {},
   "outputs": [],
   "source": [
    "# !pip install yfinance"
   ]
  },
  {
   "cell_type": "code",
   "execution_count": null,
   "id": "ed2a701c",
   "metadata": {},
   "outputs": [],
   "source": [
    "import pandas as pd\n",
    "import matplotlib.pyplot as plt\n",
    "import sys\n",
    "import yfinance as yf\n",
    "\n",
    "# To import from parent directory\n",
    "sys.path.append(\"../\")\n",
    "\n",
    "from model import Kronos, KronosTokenizer, KronosPredictor"
   ]
  },
  {
   "cell_type": "markdown",
   "id": "c8669e11",
   "metadata": {},
   "source": [
    "### 1. Load Model and Tokenizer"
   ]
  },
  {
   "cell_type": "code",
   "execution_count": 1,
   "id": "7ba88515",
   "metadata": {},
   "outputs": [
    {
     "ename": "NameError",
     "evalue": "name 'KronosTokenizer' is not defined",
     "output_type": "error",
     "traceback": [
      "\u001b[31m---------------------------------------------------------------------------\u001b[39m",
      "\u001b[31mNameError\u001b[39m                                 Traceback (most recent call last)",
      "\u001b[36mCell\u001b[39m\u001b[36m \u001b[39m\u001b[32mIn[1]\u001b[39m\u001b[32m, line 2\u001b[39m\n\u001b[32m      1\u001b[39m \u001b[38;5;66;03m# Load Model and Tokenizer\u001b[39;00m\n\u001b[32m----> \u001b[39m\u001b[32m2\u001b[39m tokenizer = \u001b[43mKronosTokenizer\u001b[49m.from_pretrained(\u001b[33m\"\u001b[39m\u001b[33mNeoQuasar/Kronos-Tokenizer-base\u001b[39m\u001b[33m\"\u001b[39m)\n\u001b[32m      3\u001b[39m model = Kronos.from_pretrained(\u001b[33m\"\u001b[39m\u001b[33mNeoQuasar/Kronos-base\u001b[39m\u001b[33m\"\u001b[39m)\n\u001b[32m      5\u001b[39m \u001b[38;5;66;03m# Instantiate Predictor\u001b[39;00m\n",
      "\u001b[31mNameError\u001b[39m: name 'KronosTokenizer' is not defined"
     ]
    }
   ],
   "source": [
    "# Load Model and Tokenizer\n",
    "tokenizer = KronosTokenizer.from_pretrained(\"NeoQuasar/Kronos-Tokenizer-base\")\n",
    "model = Kronos.from_pretrained(\"NeoQuasar/Kronos-base\")\n",
    "\n",
    "# Instantiate Predictor\n",
    "predictor = KronosPredictor(model, tokenizer, device=\"cuda:1\", max_context=1000)"
   ]
  },
  {
   "cell_type": "markdown",
   "id": "e298d5fc",
   "metadata": {},
   "source": [
    "### 2. Fetch Data using yfinance"
   ]
  },
  {
   "cell_type": "code",
   "execution_count": null,
   "id": "cfe48747",
   "metadata": {},
   "outputs": [],
   "source": [
    "# Fetch daily data for a stock\n",
    "ticker = \"AAPL\"\n",
    "data = yf.download(ticker, start=\"2020-01-01\", end=\"2025-01-01\", interval=\"1d\")\n",
    "\n",
    "# Prepare data for the model\n",
    "data = data.rename(columns={\n",
    "    \"Open\": \"open\",\n",
    "    \"High\": \"high\",\n",
    "    \"Low\": \"low\",\n",
    "    \"Close\": \"close\",\n",
    "    \"Volume\": \"volume\"\n",
    "})\n",
    "data['amount'] = data['close'] * data['volume']\n",
    "data['timestamps'] = data.index\n",
    "\n",
    "print(data.head())"
   ]
  },
  {
   "cell_type": "markdown",
   "id": "ec290007",
   "metadata": {},
   "source": [
    "### 3. Make Prediction"
   ]
  },
  {
   "cell_type": "code",
   "execution_count": null,
   "id": "abb8e0d4",
   "metadata": {},
   "outputs": [],
   "source": [
    "# Prediction setup\n",
    "lookback = 365\n",
    "pred_len = 90\n",
    "\n",
    "x_df = data.iloc[-lookback-pred_len:-pred_len]\n",
    "y_df_ground_truth = data.iloc[-pred_len:]\n",
    "\n",
    "x_timestamp = x_df['timestamps']\n",
    "y_timestamp = y_df_ground_truth['timestamps']\n",
    "\n",
    "print(\"i am here \")\n",
    "# Make Prediction\n",
    "pred_df = predictor.predict(\n",
    "    df=x_df[['open', 'high', 'low', 'close', 'volume', 'amount']],\n",
    "    x_timestamp=x_timestamp,\n",
    "    y_timestamp=y_timestamp,\n",
    "    pred_len=pred_len,\n",
    "    T=1.0,\n",
    "    top_p=0.9,\n",
    "    sample_count=1,\n",
    "    verbose=True\n",
    ")\n",
    "\n",
    "print(\"Forecasted Data Head:\")\n",
    "print(pred_df.head())"
   ]
  },
  {
   "cell_type": "markdown",
   "id": "04616a37",
   "metadata": {},
   "source": [
    "### 4. Visualize the Results"
   ]
  },
  {
   "cell_type": "code",
   "execution_count": null,
   "id": "9ce969a4",
   "metadata": {},
   "outputs": [],
   "source": [
    "def plot_prediction(historical_df, ground_truth_df, prediction_df):\n",
    "    plt.figure(figsize=(15, 7))\n",
    "    \n",
    "    plt.plot(historical_df.index, historical_df['close'], label='Historical Data', color='blue')\n",
    "    plt.plot(ground_truth_df.index, ground_truth_df['close'], label='Ground Truth', color='green')\n",
    "    plt.plot(prediction_df.index, prediction_df['close'], label='Prediction', color='red', linestyle='--')\n",
    "    \n",
    "    plt.title(f'{ticker} Stock Price Prediction')\n",
    "    plt.xlabel('Date')\n",
    "    plt.ylabel('Price (USD)')\n",
    "    plt.legend()\n",
    "    plt.grid(True)\n",
    "    plt.show()\n",
    "\n",
    "plot_prediction(x_df, y_df_ground_truth, pred_df)"
   ]
  },
  {
   "cell_type": "code",
   "execution_count": null,
   "id": "e9c7e0d9",
   "metadata": {},
   "outputs": [],
   "source": []
  }
 ],
 "metadata": {
  "kernelspec": {
   "display_name": "Kronos",
   "language": "python",
   "name": "python3"
  },
  "language_info": {
   "codemirror_mode": {
    "name": "ipython",
    "version": 3
   },
   "file_extension": ".py",
   "mimetype": "text/x-python",
   "name": "python",
   "nbconvert_exporter": "python",
   "pygments_lexer": "ipython3",
   "version": "3.12.9"
  }
 },
 "nbformat": 4,
 "nbformat_minor": 5
}
